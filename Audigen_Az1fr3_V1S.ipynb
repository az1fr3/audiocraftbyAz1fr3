{
  "nbformat": 4,
  "nbformat_minor": 0,
  "metadata": {
    "colab": {
      "provenance": [],
      "gpuType": "T4",
      "cell_execution_strategy": "setup",
      "include_colab_link": true
    },
    "kernelspec": {
      "name": "python3",
      "display_name": "Python 3"
    },
    "language_info": {
      "name": "python"
    },
    "accelerator": "GPU"
  },
  "cells": [
    {
      "cell_type": "markdown",
      "metadata": {
        "id": "view-in-github",
        "colab_type": "text"
      },
      "source": [
        "<a href=\"https://colab.research.google.com/github/az1fr3/audiocraftbyAz1fr3/blob/main/Audigen_Az1fr3_V1S.ipynb\" target=\"_parent\"><img src=\"https://colab.research.google.com/assets/colab-badge.svg\" alt=\"Open In Colab\"/></a>"
      ]
    },
    {
      "cell_type": "code",
      "execution_count": null,
      "metadata": {
        "id": "SxK2fGFXQPHE"
      },
      "outputs": [],
      "source": [
        "\n",
        "#    ___             ___                           __\n",
        "#   /   | __  ______/ (_____  ____ ____  ____     / /_  __  ___\n",
        "#  / /| |/ / / / __  / / __ \\/ __ `/ _ \\/ __ \\   / __ \\/ / / (_)\n",
        "# / ___ / /_/ / /_/ / / /_/ / /_/ /  __/ / / /  / /_/ / /_/ _\n",
        "#/_/  |_\\__,_/\\__,_/_/\\____/\\__, /\\___/_/ /_/  /_.___/\\__, (_)\n",
        "#                          /____/                    /____/\n",
        "\n",
        "#  █████╗ ███████╗ ██╗███████╗██████╗ ██████╗\n",
        "# ██╔═██╗╚══███╔╝███║██╔════╝██╔══██╗╚════██╗\n",
        "# ███████║  ███╔╝ ╚██║█████╗  ██████╔╝ █████╔╝\n",
        "# ██╔══██║ ███╔╝   ██║██╔══╝  ██╔══██╗ ╚═══██╗\n",
        "# ██║  ██║███████╗ ██║██║     ██║  ██║██████╔╝\n",
        "# ╚═╝  ╚═╝╚══════╝ ╚═╝╚═╝     ╚═╝  ╚═╝╚═════╝\n",
        "# ▒▒   ▓▒█░░▒▒ ▓░▒░▒ ▒ ░    ░ ▒▓ ░▒▓░\n",
        "#   ▒   ▒▒ ░░░▒ ▒ ░ ▒ ░        ░▒ ░ ▒░\n",
        "#   ░   ▒   ░ ░ ░ ░ ░ ░ ░      ░░   ░\n",
        "#       ░  ░  ░ ░               ░\n",
        "#           ░\n",
        "#\n",
        "# Este cuaderno solo permite la generación descriptiva de texo a audio. Otras funcionalidades de Audiogen no estan incluidas en este notebook\n",
        "# Que es AUDIOGEN? AudioGen consta de un modelo EnCodec para la tokenización de audio, y un modelo de lenguaje auto-regresivo basado en la arquitectura del transformador para el modelado de audio.\n",
        "# Que es AUDIOCRAFT? Audiocraft es una biblioteca para el procesamiento y generación de audio con aprendizaje profundo.\n",
        "# follow me for more: https://linktr.ee/az1fr3\n",
        "#####################################################################################################################################################################\n",
        "# Chequear el funcionamiento de NVIDIA, si te arroja algún error, en el menú ve a entorno de ejecución y activa la gpu Nvidia Tesla T4\n",
        "# Para información sobre audigen visita su Github: https://github.com/facebookresearch/audiocraft\n",
        "#Música opcional para esperar las descargas ^^ ░░░░░░░░░░░░░░░░░░░░░░░░░░░░░░░░░░░░░░░░░░░░░░░░░░░░░░░░░░░░░░░░░░░░░#|\n",
        "!wget -q \"https://ia601209.us.archive.org/20/items/Chiptune_Songs_Archive/McFiredrill%20-%20Computer%20Trash/04%20-%20Vitamin%20D.mp3\" -O keygenmusic.mp3\n",
        "from IPython.display import Audio; display(Audio(\"keygenmusic.mp3\", autoplay=True))\n",
        "!nvidia-smi\n"
      ]
    },
    {
      "cell_type": "code",
      "source": [
        "# Instala audiocraft desde GitHub y activa torch y librerias de ffmpeg\n",
        "!pip install \"torch>=2.0\"\n",
        "!pip install ffmpeg\n",
        "!pip install git+https://github.com/facebookresearch/audiocraft.git\n",
        "\n"
      ],
      "metadata": {
        "id": "bmwmuM-5XYuK"
      },
      "execution_count": null,
      "outputs": []
    },
    {
      "cell_type": "code",
      "source": [
        "# Importa las bibliotecas necesarias\n",
        "import torchaudio\n",
        "from audiocraft.models import AudioGen\n",
        "from audiocraft.data.audio import audio_write\n",
        "model = AudioGen.get_pretrained('facebook/audiogen-medium')\n"
      ],
      "metadata": {
        "id": "QqdyqH2_Xb3A"
      },
      "execution_count": null,
      "outputs": []
    },
    {
      "cell_type": "code",
      "source": [
        "#     _/\\/\\/\\/\\/\\___/\\/\\___________/\\/\\_____/\\/\\____/\\/\\_\n",
        "#    _/\\/\\____/\\/\\_/\\/\\_________/\\/\\/\\/\\___/\\/\\____/\\/\\_\n",
        "#   _/\\/\\/\\/\\/\\___/\\/\\_______/\\/\\____/\\/\\___/\\/\\/\\/\\___\n",
        "#  _/\\/\\_________/\\/\\_______/\\/\\/\\/\\/\\/\\_____/\\/\\_____\n",
        "# _/\\/\\_________/\\/\\/\\/\\/\\_/\\/\\____/\\/\\_____/\\/\\_____\n",
        "#___________________________________________________\n",
        "\n",
        "from audiocraft.utils.notebook import display_audio\n",
        "# Aqui puedes ajustar la duración de los sonidos\n",
        "model.set_generation_params(duration=3) #<-Genera 5 segundos de audio. Puedes expermintar con la extensión de las duraciónes\n",
        "# Genera muestras de audio condicionadas a descripciones específicas, según la cantidad descrita abajo entre las comillas\n",
        "output = model.generate(\n",
        "    descriptions=[\n",
        "        \"rap Scratch\", # Descripción n1\n",
        "        \"police siren\", # Descripcion n2\n",
        "    ],\n",
        "    progress=True\n",
        ")\n",
        "display_audio(output, sample_rate=16000)\n",
        "\n",
        "# Para descargar los sonidos solo dale click derecho y guardar"
      ],
      "metadata": {
        "id": "ps1ItO5tcm1M"
      },
      "execution_count": null,
      "outputs": []
    }
  ]
}